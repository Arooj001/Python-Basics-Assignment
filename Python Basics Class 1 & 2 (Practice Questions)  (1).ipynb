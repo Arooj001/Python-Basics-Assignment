{
 "cells": [
  {
   "cell_type": "markdown",
   "id": "52955131",
   "metadata": {},
   "source": [
    "**# Question 1. Enter Full Name, Item Purchased, Cost, Discount(Calculate the discount as fixed 20% on the cost) and Show output as: Hi, “Full Name” welcome to our store. Your calculated discount is “Discount” on item “Item\n",
    "Purchased”.\n",
    "Thank you and please visit again.*** "
   ]
  },
  {
   "cell_type": "code",
   "execution_count": 32,
   "id": "81b51696",
   "metadata": {},
   "outputs": [
    {
     "name": "stdout",
     "output_type": "stream",
     "text": [
      "Enter your name: Arooj Imtiaz\n",
      "Enter the name of purchased item: Laptop\n",
      "The price of purchased item is: 120000\n",
      "Hi, Arooj Imtiaz, welcome to our store. You calculated discount is: 24000.0, on item: Laptop,. \n",
      "Total amount to pay: 96000.0\n",
      "Thankyou and please visit again.\n"
     ]
    }
   ],
   "source": [
    "full_name = input(\"Enter your name: \")\n",
    "Item_purchased = input(\"Enter the name of purchased item: \")\n",
    "cost = float(input(\"The price of purchased item is: \"))\n",
    "discount = cost * 0.20 \n",
    "discounted_prince = cost - discount\n",
    "\n",
    "print(f'''Hi, {full_name}, welcome to our store. You calculated discount is: {discount}, on item: {Item_purchased},. \n",
    "Total amount to pay: {discounted_prince}\n",
    "Thankyou and please visit again.''')"
   ]
  },
  {
   "cell_type": "markdown",
   "id": "c6a5eae6",
   "metadata": {},
   "source": [
    "***# Question 2. Consider an interview program. Take the following input from the user:\n",
    "   a. interviewer’s name\n",
    "   b. applicant’s name\n",
    "   c. time of the interview\n",
    "   print the following line: _____ will interview _____ at _____.***"
   ]
  },
  {
   "cell_type": "code",
   "execution_count": 33,
   "id": "6f4cccbf",
   "metadata": {},
   "outputs": [
    {
     "name": "stdout",
     "output_type": "stream",
     "text": [
      "Enter the name of Interviewer: Ahmed Qazi\n",
      "Enter the name of applicant Arooj Imtiaz\n",
      "Enter the time of Interview: 04:30 pm\n",
      "Ahmed Qazi, will interview, Arooj Imtiaz, at 04:30 pm\n"
     ]
    }
   ],
   "source": [
    "interviewer_name = input(\"Enter the name of Interviewer: \")\n",
    "applicant_name = input(\"Enter the name of applicant \")\n",
    "time_of_interview = input(\"Enter the time of Interview: \")\n",
    "print(f\"{interviewer_name}, will interview, {applicant_name}, at {time_of_interview}\")"
   ]
  },
  {
   "cell_type": "markdown",
   "id": "f060bbe3",
   "metadata": {},
   "source": [
    "***# Question 3. Write a Python program that takes two numbers as input and displays whether the first\n",
    "number is greater, equal to, or less than the second number.***"
   ]
  },
  {
   "cell_type": "code",
   "execution_count": 34,
   "id": "11bc5d77",
   "metadata": {},
   "outputs": [
    {
     "name": "stdout",
     "output_type": "stream",
     "text": [
      "Enter the First number: 1005\n",
      "Enter the second number: 1005.1\n",
      "First number is greater then the second number:  False\n",
      "First number is equal to second number:  False\n",
      "First number is less then the second number:  True\n"
     ]
    }
   ],
   "source": [
    "num1 = float(input(\"Enter the First number: \"))\n",
    "num2 = float(input(\"Enter the second number: \"))\n",
    "\n",
    "print(\"First number is greater then the second number: \", (num1 > num2))\n",
    "print(\"First number is equal to second number: \", (num1 == num2))\n",
    "print(\"First number is less then the second number: \", (num1 < num2))"
   ]
  },
  {
   "cell_type": "markdown",
   "id": "d8f0c1ff",
   "metadata": {},
   "source": [
    "***# Question 4. Create a program that checks if a number is both greater than 10 and divisible by 2.***"
   ]
  },
  {
   "cell_type": "code",
   "execution_count": 35,
   "id": "ab4d71c1",
   "metadata": {},
   "outputs": [
    {
     "name": "stdout",
     "output_type": "stream",
     "text": [
      "Enter the number: 66\n",
      "True\n"
     ]
    }
   ],
   "source": [
    "num = float(input(\"Enter the number: \"))\n",
    "print((num > 10) and (num % 2 == 0))"
   ]
  },
  {
   "cell_type": "markdown",
   "id": "8e7c4d36",
   "metadata": {},
   "source": [
    "***# Question 5. Write a program that takes user’s age as input and checks if they are eligible to vote, drive,\n",
    "or both based on their age.***"
   ]
  },
  {
   "cell_type": "code",
   "execution_count": 36,
   "id": "989d0bcd",
   "metadata": {},
   "outputs": [
    {
     "name": "stdout",
     "output_type": "stream",
     "text": [
      "Enter the age of user: 15\n",
      "You are eligible to drive:  False\n",
      "You are eligible to vote:  False\n"
     ]
    }
   ],
   "source": [
    "user_age = int(input(\"Enter the age of user: \"))\n",
    "\n",
    "print(\"You are eligible to drive: \", (user_age > 16))\n",
    "print(\"You are eligible to vote: \", (user_age > 18))"
   ]
  },
  {
   "cell_type": "markdown",
   "id": "5af66f68",
   "metadata": {},
   "source": [
    "***# Question 6. Write a Python program that takes a user&#39;s full name as input and displays the length of the\n",
    "first name and the last name separately.***"
   ]
  },
  {
   "cell_type": "code",
   "execution_count": 37,
   "id": "eb474344",
   "metadata": {},
   "outputs": [
    {
     "name": "stdout",
     "output_type": "stream",
     "text": [
      "Enter the user name:Arooj Imtiaz\n",
      "Length of Fist Name:  5\n",
      "Length of Last Name:  6\n"
     ]
    }
   ],
   "source": [
    "user_name = input('Enter the user name:')\n",
    "first_space_index = user_name.index(\" \")\n",
    "\n",
    "first_name = user_name[:first_space_index]\n",
    "last_name = user_name[first_space_index+1:]\n",
    "\n",
    "print(\"Length of Fist Name: \", len(first_name))\n",
    "print(\"Length of Last Name: \", len(last_name))"
   ]
  },
  {
   "cell_type": "code",
   "execution_count": 38,
   "id": "e1cd3f7f",
   "metadata": {},
   "outputs": [
    {
     "name": "stdout",
     "output_type": "stream",
     "text": [
      "Enter your name: Ahmed Ali Khan \n",
      "Length of first name:  10\n",
      "length of last name:  9\n"
     ]
    }
   ],
   "source": [
    "user_name = input(\"Enter your name: \")\n",
    "first_space_index = user_name.index(\" \")\n",
    "first_name = user_name[first_space_index:]\n",
    "last_name = user_name[first_space_index+1:]\n",
    "print(\"Length of first name: \", len(first_name))\n",
    "print(\"length of last name: \",len(last_name))"
   ]
  },
  {
   "cell_type": "markdown",
   "id": "37c4b433",
   "metadata": {},
   "source": [
    "***# Question 7. Write a Python program that takes a sentence as input. Then, remove all spaces and display\n",
    "the modified sentence.***"
   ]
  },
  {
   "cell_type": "code",
   "execution_count": 39,
   "id": "894b22da",
   "metadata": {},
   "outputs": [
    {
     "name": "stdout",
     "output_type": "stream",
     "text": [
      "Enter the Sentence: Learning Python is a fun\n",
      "Modified sentence without spaces:  LearningPythonisafun\n"
     ]
    }
   ],
   "source": [
    "sentence = input(\"Enter the Sentence: \")\n",
    "\n",
    "modified_sentence = sentence.replace(\" \", \"\")\n",
    "\n",
    "print(\"Modified sentence without spaces: \", modified_sentence)"
   ]
  },
  {
   "cell_type": "markdown",
   "id": "954dd675",
   "metadata": {},
   "source": [
    "***# Question 8. Develop a Python program that takes a user&#39;s email address as input and checks if it\n",
    "contains the &quot;@gmail.com&quot; domain using the in operator.***"
   ]
  },
  {
   "cell_type": "code",
   "execution_count": 42,
   "id": "df2eec17",
   "metadata": {},
   "outputs": [
    {
     "name": "stdout",
     "output_type": "stream",
     "text": [
      "Enter you e-mail address: aroojkhan001@gmail.com\n",
      "The email address contain '@gmial.com' domain:  True\n"
     ]
    }
   ],
   "source": [
    "email = input(\"Enter you e-mail address: \")\n",
    "\n",
    "print(\"The email address contain '@gmial.com' domain: \", (\"@gmail.com\" in email))"
   ]
  },
  {
   "cell_type": "markdown",
   "id": "03bfca11",
   "metadata": {},
   "source": [
    "***# Question 9. Write a Python program that initializes a list of fruits. Allow the user to add a fruit to a\n",
    "specific location using the insert() method and remove a fruit of their choice using the\n",
    "remove() method.***"
   ]
  },
  {
   "cell_type": "code",
   "execution_count": 30,
   "id": "86012e1c",
   "metadata": {},
   "outputs": [
    {
     "name": "stdout",
     "output_type": "stream",
     "text": [
      "Initial list of fruits:  ['apple', 'banana', 'cherry', 'kiwi', 'blackberry', 'Watermelon']\n",
      "Enter the position of new fruit (0 to 6):2\n",
      "Enter the name of new fruit: Pinrapple \n",
      "List of fruits after adding a fruit:  ['apple', 'banana', 'cherry', 'kiwi', 'blackberry', 'Watermelon']\n",
      "Enter the name of fruit to remove: Watermelon\n",
      "List of fruit after removing:  ['apple', 'banana', 'Pinrapple ', 'cherry', 'kiwi', 'blackberry']\n"
     ]
    }
   ],
   "source": [
    "fruits = [\"apple\", \"banana\", \"cherry\", \"kiwi\", \"blackberry\", \"Watermelon\"]\n",
    "len_list = len(fruits)\n",
    "print(\"Initial list of fruits: \", fruits)\n",
    "\n",
    "position = int(input(f\"Enter the position of new fruit (0 to {len_list}):\"))\n",
    "new_fruit = input(\"Enter the name of new fruit: \")\n",
    "print(\"List of fruits after adding a fruit: \", fruits)\n",
    "fruits.insert(position, new_fruit)\n",
    "\n",
    "remove_fruit = input(\"Enter the name of fruit to remove: \")\n",
    "fruits.remove(remove_fruit)\n",
    "print(\"List of fruit after removing: \", fruits)"
   ]
  },
  {
   "cell_type": "markdown",
   "id": "b4c5c6a3",
   "metadata": {},
   "source": [
    "***# Question 10. Develop a Python program that initializes a list of 5 colors. Extend the original list with 4\n",
    "more colors using the extend() method and display the resulting list.***"
   ]
  },
  {
   "cell_type": "code",
   "execution_count": 31,
   "id": "671048a3",
   "metadata": {},
   "outputs": [
    {
     "name": "stdout",
     "output_type": "stream",
     "text": [
      "Initial list of colours:  ['Red', 'Yellow', 'Orange', 'Blue', 'Black']\n",
      "Extended list of colours:  ['Red', 'Yellow', 'Orange', 'Blue', 'Black', 'Violet', 'Grey', 'Green', 'White']\n"
     ]
    }
   ],
   "source": [
    "colours = [\"Red\", \"Yellow\", \"Orange\", \"Blue\", \"Black\"]\n",
    "print(\"Initial list of colours: \", colours)\n",
    "\n",
    "extend_colours = [\"Violet\", \"Grey\", \"Green\", \"White\"]\n",
    "colours.extend(extend_colours)\n",
    "print(\"Extended list of colours: \", colours)"
   ]
  }
 ],
 "metadata": {
  "kernelspec": {
   "display_name": "Python 3 (ipykernel)",
   "language": "python",
   "name": "python3"
  },
  "language_info": {
   "codemirror_mode": {
    "name": "ipython",
    "version": 3
   },
   "file_extension": ".py",
   "mimetype": "text/x-python",
   "name": "python",
   "nbconvert_exporter": "python",
   "pygments_lexer": "ipython3",
   "version": "3.11.5"
  }
 },
 "nbformat": 4,
 "nbformat_minor": 5
}
